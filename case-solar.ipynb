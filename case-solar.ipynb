{
 "cells": [
  {
   "cell_type": "markdown",
   "id": "365750c5-cf58-4138-bbb4-27da05030b4a",
   "metadata": {},
   "source": [
    "## Sumário\n",
    "\n",
    "1. [Introdução](#1.-Introdução)\n",
    "2. [EDA e Feature Engineering](#2.-EDA-e-Feature-Engineering)\n",
    "3. [Clustering](#3.-Clustering)\n",
    "4. [Escolha de cidade](#4.-Escolha-de-cidade)\n",
    "5. [Modelo de classificação](#5.-Modelo-de-classificação)\n",
    "\n",
    "   [Referências](#Referências)"
   ]
  },
  {
   "cell_type": "code",
   "execution_count": 1,
   "id": "18f2a5ec-95fc-438d-8102-5778b29c6d28",
   "metadata": {},
   "outputs": [],
   "source": [
    "import pandas as pd\n",
    "import numpy as np\n",
    "\n",
    "import matplotlib.pyplot as plt\n",
    "import seaborn as sns\n",
    "\n",
    "from sklearn.preprocessing import MinMaxScaler\n",
    "from sklearn.cluster import KMeans\n",
    "from sklearn.tree import DecisionTreeClassifier, plot_tree\n",
    "from sklearn.model_selection import StratifiedKFold, cross_validate, GridSearchCV\n",
    "\n",
    "import warnings\n",
    "warnings.filterwarnings('ignore'\n",
    ")"
   ]
  },
  {
   "cell_type": "markdown",
   "id": "93530dc3-5227-4c5a-a56f-498d307b5270",
   "metadata": {},
   "source": [
    "## 1. Introdução"
   ]
  },
  {
   "cell_type": "markdown",
   "id": "ad7584b4-0b56-4a8e-a142-c70b128ee352",
   "metadata": {},
   "source": [
    "Esse notebook tem como objetivo fornecer uma solução para o case proposto. Dessa forma, busca-se executar as atividades abaixo:\n",
    "\n",
    "1. Classificar e caracterizar os municípios com base nos dados demográficos;\n",
    "2. Identificar e justificar quais os municípios mais adequados para a entrada da empresa no mercado brasileiro;\n",
    "3. Elaborar um modelo de classificação para identificar a qual grupo o município pertence.\n",
    "\n",
    "São feitas algumas considerações sobre qual seria o ambiente ideal para produzir a população ideal para consumir bebidas industrializadas.\n",
    "\n",
    "1. Conforme [1] e [2], o consumo de bebidas industrializadas é mais prevalente dentre a população mais jovem. Dessa forma, busca-se cidades que possuam alta taxa de crescimento populacional e um bom percentual de pessoas até 25 anos.\n",
    "\n",
    "2. Conforme [3], o consumo de bebidas industrializadas é mais prevalente dentre a população de maior renda. Dessa forma busca-se cidades que possuam renda per capita alta e baixos indices de pobreza.\n",
    "\n",
    "3. Entende-se que grandes cidades são adequadas por possuirem um potencial de clientes maior, além de possuir mais mão de obra para contratação, visto que a empresa ainda não está implantada. Dessa forma, busca-se cidades com alta taxa de crescimento populacional e grande quantidade de população.\n",
    "\n",
    "4. Entende-se que populações mais urbanas apresentam maior facilidade para aceitar novos produtos. Dessa forma, busca-se cidades que tenham alto percentual de população urbana e que estejam próximas das capitais.\n",
    "\n",
    "5. Por último, vale olhar para cases recentes de outros players, tal como o lançamento do Clash'd pela Heineken [4]. Os estados escolhidos pelo player (SP, RJ, MG, PR) concorrente devem ser levadas em consideração visto que provavelmente houve um extenso estudo antes da escolha.\n",
    "\n",
    "Destaca-se que os dados das pesquisas não são recentes, no entanto os dados demográficos disponíveis também datam de 1991 e 2000, portanto há essa ressalva quanto a validade da análise desenvolvida."
   ]
  },
  {
   "cell_type": "markdown",
   "id": "26fc692d-9659-4b48-8b85-3e8ee1e4ebef",
   "metadata": {},
   "source": [
    "## 2. EDA e Feature Engineering"
   ]
  },
  {
   "cell_type": "markdown",
   "id": "7ca0c881-4cff-4668-bcc3-6843d6e22019",
   "metadata": {},
   "source": [
    "Seleciona-se apenas as colunas de interesse conforme as considerações feitas na introdução. As colunas são renomeadas para facilitar o uso.\n",
    "\n",
    "As features que serão utilizadas são:\n",
    "\n",
    "1. Distância da capital\n",
    "2. Taxa de fecundidade total em 2000\n",
    "3. Renda per Capita\n",
    "4. Intensidade de pobreza\n",
    "5. % de População até 25 anos\n",
    "6. População de até 25 anos em 2000\n",
    "7. Taxa de crescimento da população de até 25 anos\n",
    "8. % de População urbana\n",
    "\n",
    "Das quais as features 1 a 4 já estão prontas no dataset original e as features 5 a 8 serão obtidas."
   ]
  },
  {
   "cell_type": "code",
   "execution_count": 2,
   "id": "1e8cc9d8-1f18-45fc-a40c-5c81be9b5051",
   "metadata": {
    "scrolled": true
   },
   "outputs": [],
   "source": [
    "cities_raw = pd.read_excel('data/raw_data.xls')\n",
    "\n",
    "cities = cities_raw[[\n",
    "    'Código',\n",
    "    'Município',\n",
    "    'UF',\n",
    "    'Distância à capital (km)',\n",
    "    'Taxa de fecundidade total, 2000',\n",
    "    'Renda per Capita, 2000',\n",
    "    'Intensidade da pobreza, 2000',\n",
    "    'População de 25 anos ou mais de idade, 2000',\n",
    "    'População de 25 anos ou mais de idade, 1991',\n",
    "    'População total, 2000',\n",
    "    'População total, 1991',\n",
    "    'População urbana, 2000'\n",
    "]]\n",
    "\n",
    "cities.rename(columns={\n",
    "    'Código': 'id',\n",
    "    'Município': 'municipio',\n",
    "    'UF': 'uf',\n",
    "    'Distância à capital (km)': 'dist_cap_km',\n",
    "    'Taxa de fecundidade total, 2000': 'taxa_fec',\n",
    "    'Renda per Capita, 2000': 'renda_cap',\n",
    "    'Intensidade da pobreza, 2000': 'pobreza',\n",
    "    'População de 25 anos ou mais de idade, 2000': 'pop_25_mais_2000',\n",
    "    'População de 25 anos ou mais de idade, 1991': 'pop_25_mais_1991',\n",
    "    'População total, 2000': 'pop_total_2000',\n",
    "    'População total, 1991': 'pop_total_1991',\n",
    "    'População urbana, 2000': 'pop_urb_2000'\n",
    "}, inplace=True)\n",
    "\n",
    "cities.set_index(['id'], inplace=True)"
   ]
  },
  {
   "cell_type": "markdown",
   "id": "a36dcae2-bdce-454e-a39e-065e12c2d1f2",
   "metadata": {},
   "source": [
    "Nota-se que não existem colunas com dados faltantes. Pelos boxplots percebe-se que existem outliers, mas isso é natual do dataset, existe a tendência de concentração de pessoas em grandes cidades, por exemplo. Dessa forma, não será necessário esforço para o tratamento dos dados."
   ]
  },
  {
   "cell_type": "code",
   "execution_count": 3,
   "id": "dee27d70-a24f-465c-8621-6b302c7d422c",
   "metadata": {
    "scrolled": true
   },
   "outputs": [
    {
     "data": {
      "text/html": [
       "<div>\n",
       "<style scoped>\n",
       "    .dataframe tbody tr th:only-of-type {\n",
       "        vertical-align: middle;\n",
       "    }\n",
       "\n",
       "    .dataframe tbody tr th {\n",
       "        vertical-align: top;\n",
       "    }\n",
       "\n",
       "    .dataframe thead th {\n",
       "        text-align: right;\n",
       "    }\n",
       "</style>\n",
       "<table border=\"1\" class=\"dataframe\">\n",
       "  <thead>\n",
       "    <tr style=\"text-align: right;\">\n",
       "      <th></th>\n",
       "      <th>dist_cap_km</th>\n",
       "      <th>taxa_fec</th>\n",
       "      <th>renda_cap</th>\n",
       "      <th>pobreza</th>\n",
       "      <th>pop_25_mais_2000</th>\n",
       "      <th>pop_25_mais_1991</th>\n",
       "      <th>pop_total_2000</th>\n",
       "      <th>pop_total_1991</th>\n",
       "      <th>pop_urb_2000</th>\n",
       "    </tr>\n",
       "  </thead>\n",
       "  <tbody>\n",
       "    <tr>\n",
       "      <th>count</th>\n",
       "      <td>5507.000000</td>\n",
       "      <td>5507.000000</td>\n",
       "      <td>5507.000000</td>\n",
       "      <td>5507.000000</td>\n",
       "      <td>5.507000e+03</td>\n",
       "      <td>5.507000e+03</td>\n",
       "      <td>5.507000e+03</td>\n",
       "      <td>5.507000e+03</td>\n",
       "      <td>5.507000e+03</td>\n",
       "    </tr>\n",
       "    <tr>\n",
       "      <th>mean</th>\n",
       "      <td>253.212620</td>\n",
       "      <td>2.864845</td>\n",
       "      <td>170.814160</td>\n",
       "      <td>47.086060</td>\n",
       "      <td>1.551693e+04</td>\n",
       "      <td>1.221264e+04</td>\n",
       "      <td>3.083333e+04</td>\n",
       "      <td>2.666167e+04</td>\n",
       "      <td>2.505066e+04</td>\n",
       "    </tr>\n",
       "    <tr>\n",
       "      <th>std</th>\n",
       "      <td>163.210532</td>\n",
       "      <td>0.744454</td>\n",
       "      <td>96.425347</td>\n",
       "      <td>10.732511</td>\n",
       "      <td>1.039028e+05</td>\n",
       "      <td>8.923783e+04</td>\n",
       "      <td>1.867506e+05</td>\n",
       "      <td>1.690004e+05</td>\n",
       "      <td>1.800123e+05</td>\n",
       "    </tr>\n",
       "    <tr>\n",
       "      <th>min</th>\n",
       "      <td>0.000000</td>\n",
       "      <td>1.560000</td>\n",
       "      <td>28.380000</td>\n",
       "      <td>15.760000</td>\n",
       "      <td>4.220000e+02</td>\n",
       "      <td>2.390000e+02</td>\n",
       "      <td>7.950000e+02</td>\n",
       "      <td>6.180000e+02</td>\n",
       "      <td>0.000000e+00</td>\n",
       "    </tr>\n",
       "    <tr>\n",
       "      <th>25%</th>\n",
       "      <td>121.858906</td>\n",
       "      <td>2.320000</td>\n",
       "      <td>86.495000</td>\n",
       "      <td>38.190000</td>\n",
       "      <td>2.502000e+03</td>\n",
       "      <td>2.119500e+03</td>\n",
       "      <td>5.152500e+03</td>\n",
       "      <td>4.945000e+03</td>\n",
       "      <td>2.402500e+03</td>\n",
       "    </tr>\n",
       "    <tr>\n",
       "      <th>50%</th>\n",
       "      <td>228.262939</td>\n",
       "      <td>2.670000</td>\n",
       "      <td>159.100000</td>\n",
       "      <td>46.230000</td>\n",
       "      <td>4.930000e+03</td>\n",
       "      <td>4.084000e+03</td>\n",
       "      <td>1.041800e+04</td>\n",
       "      <td>9.748000e+03</td>\n",
       "      <td>5.314000e+03</td>\n",
       "    </tr>\n",
       "    <tr>\n",
       "      <th>75%</th>\n",
       "      <td>358.072044</td>\n",
       "      <td>3.230000</td>\n",
       "      <td>232.695000</td>\n",
       "      <td>55.410000</td>\n",
       "      <td>1.004000e+04</td>\n",
       "      <td>8.104000e+03</td>\n",
       "      <td>2.135650e+04</td>\n",
       "      <td>1.897450e+04</td>\n",
       "      <td>1.324050e+04</td>\n",
       "    </tr>\n",
       "    <tr>\n",
       "      <th>max</th>\n",
       "      <td>1474.314590</td>\n",
       "      <td>7.790000</td>\n",
       "      <td>954.650000</td>\n",
       "      <td>83.030000</td>\n",
       "      <td>5.825893e+06</td>\n",
       "      <td>5.106165e+06</td>\n",
       "      <td>1.043425e+07</td>\n",
       "      <td>9.649519e+06</td>\n",
       "      <td>9.813187e+06</td>\n",
       "    </tr>\n",
       "  </tbody>\n",
       "</table>\n",
       "</div>"
      ],
      "text/plain": [
       "       dist_cap_km     taxa_fec    renda_cap      pobreza  pop_25_mais_2000  \\\n",
       "count  5507.000000  5507.000000  5507.000000  5507.000000      5.507000e+03   \n",
       "mean    253.212620     2.864845   170.814160    47.086060      1.551693e+04   \n",
       "std     163.210532     0.744454    96.425347    10.732511      1.039028e+05   \n",
       "min       0.000000     1.560000    28.380000    15.760000      4.220000e+02   \n",
       "25%     121.858906     2.320000    86.495000    38.190000      2.502000e+03   \n",
       "50%     228.262939     2.670000   159.100000    46.230000      4.930000e+03   \n",
       "75%     358.072044     3.230000   232.695000    55.410000      1.004000e+04   \n",
       "max    1474.314590     7.790000   954.650000    83.030000      5.825893e+06   \n",
       "\n",
       "       pop_25_mais_1991  pop_total_2000  pop_total_1991  pop_urb_2000  \n",
       "count      5.507000e+03    5.507000e+03    5.507000e+03  5.507000e+03  \n",
       "mean       1.221264e+04    3.083333e+04    2.666167e+04  2.505066e+04  \n",
       "std        8.923783e+04    1.867506e+05    1.690004e+05  1.800123e+05  \n",
       "min        2.390000e+02    7.950000e+02    6.180000e+02  0.000000e+00  \n",
       "25%        2.119500e+03    5.152500e+03    4.945000e+03  2.402500e+03  \n",
       "50%        4.084000e+03    1.041800e+04    9.748000e+03  5.314000e+03  \n",
       "75%        8.104000e+03    2.135650e+04    1.897450e+04  1.324050e+04  \n",
       "max        5.106165e+06    1.043425e+07    9.649519e+06  9.813187e+06  "
      ]
     },
     "execution_count": 3,
     "metadata": {},
     "output_type": "execute_result"
    }
   ],
   "source": [
    "cities.describe()"
   ]
  },
  {
   "cell_type": "code",
   "execution_count": 4,
   "id": "7e32f389-2c9b-459f-ac00-c575d9a767ee",
   "metadata": {},
   "outputs": [],
   "source": [
    "# Comentado para facilitar a leitura do documento. Pode ser descomentado durante análises detalhadas.\n",
    "\n",
    "# for column in cities.select_dtypes(exclude=['object']):\n",
    "#     plt.figure()\n",
    "#     cities.boxplot([column])"
   ]
  },
  {
   "cell_type": "code",
   "execution_count": 5,
   "id": "d82d983e-77c9-4252-9be1-ea6df0e16f27",
   "metadata": {},
   "outputs": [],
   "source": [
    "cities['pop_ate_25_2000'] = cities['pop_total_2000'] - cities['pop_25_mais_2000']\n",
    "cities['pop_ate_25_1991'] = cities['pop_total_1991'] - cities['pop_25_mais_1991']\n",
    "\n",
    "cities['perc_ate_25_2000'] = cities['pop_ate_25_2000'] / cities['pop_total_2000']\n",
    "cities['var_pop_ate_25'] = cities['pop_ate_25_2000'] / cities['pop_ate_25_1991']\n",
    "\n",
    "cities['perc_pop_urb'] = cities['pop_urb_2000'] / cities['pop_total_2000']\n",
    "\n",
    "ids = cities[['municipio', 'uf']]\n",
    "cities = cities[[\n",
    "    'dist_cap_km',\n",
    "    'taxa_fec',\n",
    "    'renda_cap',\n",
    "    'pobreza',\n",
    "    'pop_ate_25_2000',\n",
    "    'perc_ate_25_2000',\n",
    "    'var_pop_ate_25',\n",
    "    'perc_pop_urb',\n",
    "]]\n",
    "\n",
    "cities.to_csv('data/cities.csv', index=True)\n",
    "del(cities_raw)"
   ]
  },
  {
   "cell_type": "markdown",
   "id": "e5ea31c4-0c2c-4ec9-8d54-3b1c48230703",
   "metadata": {},
   "source": [
    "## 3. Clustering"
   ]
  },
  {
   "cell_type": "markdown",
   "id": "9f57df45-c5c2-43bb-bb2f-f0fefc8f47c2",
   "metadata": {},
   "source": [
    "Optou-se pela clusterização das cidades utilizando K Means. Os dados foram escalados e o modelo foi aplicado usando as 8 features desenvolvidas. Houve a divisão em três grupos de cidades.\n",
    "\n",
    "Os clusters podem ser classificados por:\n",
    "\n",
    "Cluster 0: Cidades urbanas. Esse grupo é composto pelas cidades que têm características mais urbanas, tal como menor distância da capital, menores taxa de fecundidade, maior renda per capita, maiores populações e alto percentual de população em área urbana.\n",
    "\n",
    "Cluster 1: Microcidades. Cidades com em média 5 mil habitantes. Essas cidades são as de menor interesse comercial, visto que sua população é muito pequena e portanto seu potencial de receita é limitado.\n",
    "\n",
    "Cluster 2: Pequenas cidades. Cidades com em média 10 mil habitantes, ainda não são suficientes para despertar interesse comercial, pois apesar de maiores, destaca-se a maior distância das capitais, maiores índices de pobreza e menor renda per capita."
   ]
  },
  {
   "cell_type": "code",
   "execution_count": 6,
   "id": "06120d53-9391-4c92-853f-e5581385176b",
   "metadata": {},
   "outputs": [],
   "source": [
    "scaler = MinMaxScaler()\n",
    "cities_scaled = pd.DataFrame(\n",
    "    scaler.fit_transform(cities),\n",
    "    index=cities.index,\n",
    "    columns=cities.columns,\n",
    ")"
   ]
  },
  {
   "cell_type": "code",
   "execution_count": 7,
   "id": "451862db-8f1f-4161-9b2a-224f4b8cc535",
   "metadata": {},
   "outputs": [
    {
     "data": {
      "text/plain": [
       "cluster\n",
       "0    2294\n",
       "1    1135\n",
       "2    2078\n",
       "Name: dist_cap_km, dtype: int64"
      ]
     },
     "execution_count": 7,
     "metadata": {},
     "output_type": "execute_result"
    }
   ],
   "source": [
    "kmeans = KMeans(n_clusters=3, random_state=0)\n",
    "clusters = kmeans.fit(cities_scaled)\n",
    "cities['cluster'] = clusters.labels_\n",
    "cities_grouped_by_cluster = cities.groupby('cluster').mean().reset_index()\n",
    "cities.groupby('cluster').count()['dist_cap_km']"
   ]
  },
  {
   "cell_type": "code",
   "execution_count": 8,
   "id": "e005b1b5-4fc2-45ea-b1e3-f32117bdbe81",
   "metadata": {},
   "outputs": [],
   "source": [
    "def plot_barplot_clusters(df: pd.DataFrame, features: list, title: str):\n",
    "  f, ax = plt.subplots(1, len(features), figsize=(18, 5))\n",
    "  f.suptitle(title)\n",
    "\n",
    "  for pos, feature in enumerate(features):  \n",
    "      sns.barplot(ax=ax[pos], x='cluster', y=features[pos], data=df)\n",
    "      \n",
    "  return f"
   ]
  },
  {
   "cell_type": "code",
   "execution_count": 9,
   "id": "5a4d4a9d-9bd3-499b-82f6-1ff24ee432e1",
   "metadata": {},
   "outputs": [
    {
     "data": {
      "image/png": "[encoded data removed]",
      "text/plain": [
       "<Figure size 1800x500 with 3 Axes>"
      ]
     },
     "metadata": {},
     "output_type": "display_data"
    }
   ],
   "source": [
    "plot_barplot_clusters(\n",
    "  cities_grouped_by_cluster,\n",
    "  ['dist_cap_km', 'taxa_fec', 'renda_cap'],\n",
    "  '',\n",
    ").show()"
   ]
  },
  {
   "cell_type": "code",
   "execution_count": 10,
   "id": "87f074c7-8c5c-483f-93cb-6ced14612e5b",
   "metadata": {},
   "outputs": [
    {
     "data": {
      "image/png": "[encoded data removed]",
      "text/plain": [
       "<Figure size 1800x500 with 3 Axes>"
      ]
     },
     "metadata": {},
     "output_type": "display_data"
    }
   ],
   "source": [
    "plot_barplot_clusters(\n",
    "  cities_grouped_by_cluster,\n",
    "  ['pobreza', 'pop_ate_25_2000', 'perc_ate_25_2000'],\n",
    "  '',\n",
    ").show()"
   ]
  },
  {
   "cell_type": "code",
   "execution_count": 11,
   "id": "81ac036f-49cd-43e4-8481-3bd7358d8ea8",
   "metadata": {},
   "outputs": [
    {
     "data": {
      "image/png": "[encoded data removed]",
      "text/plain": [
       "<Figure size 1800x500 with 2 Axes>"
      ]
     },
     "metadata": {},
     "output_type": "display_data"
    }
   ],
   "source": [
    "plot_barplot_clusters(\n",
    "  cities_grouped_by_cluster,\n",
    "  ['var_pop_ate_25', 'perc_pop_urb'],\n",
    "  '',\n",
    ").show()"
   ]
  },
  {
   "cell_type": "code",
   "execution_count": 12,
   "id": "8198cc76-9098-4804-b499-5cac980251bb",
   "metadata": {
    "scrolled": true
   },
   "outputs": [],
   "source": [
    "cities = cities.join(ids, on='id')"
   ]
  },
  {
   "cell_type": "markdown",
   "id": "12fdfefb-09b9-4fce-b331-721402b188a3",
   "metadata": {},
   "source": [
    "## 4. Escolha de cidade"
   ]
  },
  {
   "cell_type": "markdown",
   "id": "3efc76ae-890b-4c35-81e7-ba7d772fe983",
   "metadata": {},
   "source": [
    "Relembrando os pontos destacados como importantes na introdução, busca-se:\n",
    "\n",
    "* Uma população volumosa, urbana, com alto percentual de jovens e com alta renda per capita.\n",
    "\n",
    "A cidade que representa melhor os pontos destacados é São Paulo. Seus indicadores de taxa de fecundidade e variação de população podem ser menores que outras grandes cidades como Fortaleza, mas o tamanho e renda da população destoam. Junto a isso pode-se considerar outros fatores como:\n",
    "\n",
    "1. Presença de portos para recebimento de insumos/mercadoria pronta.\n",
    "2. Maior facilidade para contratação de mão de obra.\n",
    "3. Outros grandes players chegando a conclões similares [4]"
   ]
  },
  {
   "cell_type": "code",
   "execution_count": 13,
   "id": "3db9a052-c09b-4a1c-a8b1-5db0a5df4e4b",
   "metadata": {},
   "outputs": [
    {
     "data": {
      "text/html": [
       "<div>\n",
       "<style scoped>\n",
       "    .dataframe tbody tr th:only-of-type {\n",
       "        vertical-align: middle;\n",
       "    }\n",
       "\n",
       "    .dataframe tbody tr th {\n",
       "        vertical-align: top;\n",
       "    }\n",
       "\n",
       "    .dataframe thead th {\n",
       "        text-align: right;\n",
       "    }\n",
       "</style>\n",
       "<table border=\"1\" class=\"dataframe\">\n",
       "  <thead>\n",
       "    <tr style=\"text-align: right;\">\n",
       "      <th></th>\n",
       "      <th>dist_cap_km</th>\n",
       "      <th>taxa_fec</th>\n",
       "      <th>renda_cap</th>\n",
       "      <th>pobreza</th>\n",
       "      <th>pop_ate_25_2000</th>\n",
       "      <th>perc_ate_25_2000</th>\n",
       "      <th>var_pop_ate_25</th>\n",
       "      <th>perc_pop_urb</th>\n",
       "      <th>cluster</th>\n",
       "      <th>municipio</th>\n",
       "      <th>uf</th>\n",
       "    </tr>\n",
       "    <tr>\n",
       "      <th>id</th>\n",
       "      <th></th>\n",
       "      <th></th>\n",
       "      <th></th>\n",
       "      <th></th>\n",
       "      <th></th>\n",
       "      <th></th>\n",
       "      <th></th>\n",
       "      <th></th>\n",
       "      <th></th>\n",
       "      <th></th>\n",
       "      <th></th>\n",
       "    </tr>\n",
       "  </thead>\n",
       "  <tbody>\n",
       "    <tr>\n",
       "      <th>355030</th>\n",
       "      <td>0.0</td>\n",
       "      <td>1.88</td>\n",
       "      <td>610.04</td>\n",
       "      <td>51.19</td>\n",
       "      <td>4608359</td>\n",
       "      <td>0.441657</td>\n",
       "      <td>1.014308</td>\n",
       "      <td>0.940478</td>\n",
       "      <td>0</td>\n",
       "      <td>São Paulo</td>\n",
       "      <td>SP</td>\n",
       "    </tr>\n",
       "    <tr>\n",
       "      <th>330455</th>\n",
       "      <td>0.0</td>\n",
       "      <td>1.87</td>\n",
       "      <td>596.65</td>\n",
       "      <td>46.90</td>\n",
       "      <td>2346406</td>\n",
       "      <td>0.400554</td>\n",
       "      <td>1.017949</td>\n",
       "      <td>1.000000</td>\n",
       "      <td>0</td>\n",
       "      <td>Rio de Janeiro</td>\n",
       "      <td>RJ</td>\n",
       "    </tr>\n",
       "    <tr>\n",
       "      <th>292740</th>\n",
       "      <td>0.0</td>\n",
       "      <td>1.69</td>\n",
       "      <td>341.32</td>\n",
       "      <td>46.31</td>\n",
       "      <td>1195913</td>\n",
       "      <td>0.489505</td>\n",
       "      <td>1.047264</td>\n",
       "      <td>0.999589</td>\n",
       "      <td>0</td>\n",
       "      <td>Salvador</td>\n",
       "      <td>BA</td>\n",
       "    </tr>\n",
       "    <tr>\n",
       "      <th>230440</th>\n",
       "      <td>0.0</td>\n",
       "      <td>2.16</td>\n",
       "      <td>306.70</td>\n",
       "      <td>43.73</td>\n",
       "      <td>1080368</td>\n",
       "      <td>0.504514</td>\n",
       "      <td>1.105817</td>\n",
       "      <td>1.000000</td>\n",
       "      <td>0</td>\n",
       "      <td>Fortaleza</td>\n",
       "      <td>CE</td>\n",
       "    </tr>\n",
       "    <tr>\n",
       "      <th>530010</th>\n",
       "      <td>0.0</td>\n",
       "      <td>1.96</td>\n",
       "      <td>605.41</td>\n",
       "      <td>42.23</td>\n",
       "      <td>1042300</td>\n",
       "      <td>0.508155</td>\n",
       "      <td>1.163625</td>\n",
       "      <td>0.956294</td>\n",
       "      <td>0</td>\n",
       "      <td>Brasília</td>\n",
       "      <td>DF</td>\n",
       "    </tr>\n",
       "    <tr>\n",
       "      <th>310620</th>\n",
       "      <td>0.0</td>\n",
       "      <td>1.65</td>\n",
       "      <td>557.44</td>\n",
       "      <td>40.64</td>\n",
       "      <td>997385</td>\n",
       "      <td>0.445554</td>\n",
       "      <td>0.997346</td>\n",
       "      <td>1.000000</td>\n",
       "      <td>0</td>\n",
       "      <td>Belo Horizonte</td>\n",
       "      <td>MG</td>\n",
       "    </tr>\n",
       "    <tr>\n",
       "      <th>130260</th>\n",
       "      <td>0.0</td>\n",
       "      <td>2.55</td>\n",
       "      <td>262.40</td>\n",
       "      <td>49.67</td>\n",
       "      <td>792605</td>\n",
       "      <td>0.563797</td>\n",
       "      <td>1.289839</td>\n",
       "      <td>0.993550</td>\n",
       "      <td>0</td>\n",
       "      <td>Manaus</td>\n",
       "      <td>AM</td>\n",
       "    </tr>\n",
       "    <tr>\n",
       "      <th>410690</th>\n",
       "      <td>0.0</td>\n",
       "      <td>1.74</td>\n",
       "      <td>619.82</td>\n",
       "      <td>43.76</td>\n",
       "      <td>707238</td>\n",
       "      <td>0.445556</td>\n",
       "      <td>1.092214</td>\n",
       "      <td>1.000000</td>\n",
       "      <td>0</td>\n",
       "      <td>Curitiba</td>\n",
       "      <td>PR</td>\n",
       "    </tr>\n",
       "    <tr>\n",
       "      <th>261160</th>\n",
       "      <td>0.0</td>\n",
       "      <td>1.81</td>\n",
       "      <td>392.46</td>\n",
       "      <td>44.77</td>\n",
       "      <td>657313</td>\n",
       "      <td>0.461951</td>\n",
       "      <td>0.964959</td>\n",
       "      <td>1.000000</td>\n",
       "      <td>0</td>\n",
       "      <td>Recife</td>\n",
       "      <td>PE</td>\n",
       "    </tr>\n",
       "    <tr>\n",
       "      <th>150140</th>\n",
       "      <td>0.0</td>\n",
       "      <td>1.96</td>\n",
       "      <td>313.93</td>\n",
       "      <td>43.23</td>\n",
       "      <td>654207</td>\n",
       "      <td>0.510854</td>\n",
       "      <td>1.057607</td>\n",
       "      <td>0.993550</td>\n",
       "      <td>0</td>\n",
       "      <td>Belém</td>\n",
       "      <td>PA</td>\n",
       "    </tr>\n",
       "  </tbody>\n",
       "</table>\n",
       "</div>"
      ],
      "text/plain": [
       "        dist_cap_km  taxa_fec  renda_cap  pobreza  pop_ate_25_2000  \\\n",
       "id                                                                   \n",
       "355030          0.0      1.88     610.04    51.19          4608359   \n",
       "330455          0.0      1.87     596.65    46.90          2346406   \n",
       "292740          0.0      1.69     341.32    46.31          1195913   \n",
       "230440          0.0      2.16     306.70    43.73          1080368   \n",
       "530010          0.0      1.96     605.41    42.23          1042300   \n",
       "310620          0.0      1.65     557.44    40.64           997385   \n",
       "130260          0.0      2.55     262.40    49.67           792605   \n",
       "410690          0.0      1.74     619.82    43.76           707238   \n",
       "261160          0.0      1.81     392.46    44.77           657313   \n",
       "150140          0.0      1.96     313.93    43.23           654207   \n",
       "\n",
       "        perc_ate_25_2000  var_pop_ate_25  perc_pop_urb  cluster  \\\n",
       "id                                                                \n",
       "355030          0.441657        1.014308      0.940478        0   \n",
       "330455          0.400554        1.017949      1.000000        0   \n",
       "292740          0.489505        1.047264      0.999589        0   \n",
       "230440          0.504514        1.105817      1.000000        0   \n",
       "530010          0.508155        1.163625      0.956294        0   \n",
       "310620          0.445554        0.997346      1.000000        0   \n",
       "130260          0.563797        1.289839      0.993550        0   \n",
       "410690          0.445556        1.092214      1.000000        0   \n",
       "261160          0.461951        0.964959      1.000000        0   \n",
       "150140          0.510854        1.057607      0.993550        0   \n",
       "\n",
       "              municipio  uf  \n",
       "id                           \n",
       "355030       São Paulo   SP  \n",
       "330455  Rio de Janeiro   RJ  \n",
       "292740        Salvador   BA  \n",
       "230440       Fortaleza   CE  \n",
       "530010        Brasília   DF  \n",
       "310620  Belo Horizonte   MG  \n",
       "130260          Manaus   AM  \n",
       "410690        Curitiba   PR  \n",
       "261160          Recife   PE  \n",
       "150140           Belém   PA  "
      ]
     },
     "execution_count": 13,
     "metadata": {},
     "output_type": "execute_result"
    }
   ],
   "source": [
    "cities.sort_values('pop_ate_25_2000', ascending=False).head(10)"
   ]
  },
  {
   "cell_type": "markdown",
   "id": "aa25ef10-5edc-4da7-99a7-f5987f5d9f33",
   "metadata": {},
   "source": [
    "## 5. Modelo de classificação"
   ]
  },
  {
   "cell_type": "markdown",
   "id": "d843d46b-f156-4478-aee4-a1a251f96fd1",
   "metadata": {},
   "source": [
    "Para modelagem optou-se por testar o mais simples e interpretável primeiro, dessa forma observou-se que os resultados de precisão para a árvore de decisão testada em um Cross Validation de 5 folds foi de mais de 90%.\n",
    "\n",
    "Em seguida testou-se qual seria a profundidade máxima da árvore ideal por um Grid Search para evitar overfit, chegando a profundidade máxima de 4 nós a uma precisão superior a 95%."
   ]
  },
  {
   "cell_type": "code",
   "execution_count": 14,
   "id": "d6d7b103-61ba-41c6-a6cf-d3a2540f9c04",
   "metadata": {},
   "outputs": [],
   "source": [
    "def eval_model(x: pd.DataFrame, y: pd.Series, model):\n",
    "  skf = StratifiedKFold(n_splits=5, shuffle=True, random_state=0)\n",
    "  cv_results = cross_validate(\n",
    "    model,\n",
    "    x,\n",
    "    y,\n",
    "    cv=skf,\n",
    "    scoring=['accuracy'],\n",
    "  )\n",
    "  return cv_results['test_accuracy'].mean()\n",
    "\n",
    "def grid_search_model(x: pd.DataFrame, y: pd.Series, model, params: dict):\n",
    "  grid_search = GridSearchCV(\n",
    "    model,\n",
    "    params,\n",
    "    scoring='accuracy',\n",
    "    n_jobs=-1,\n",
    "    cv=5,\n",
    "    return_train_score=True,\n",
    "  )\n",
    "  grid_search.fit(x, y)\n",
    "  return pd.DataFrame(grid_search.cv_results_)\n",
    "\n",
    "def plot_overfit_analysis(\n",
    "  df: pd.DataFrame,\n",
    "  x_label: str,\n",
    "  y_label: str,\n",
    "  title: str,\n",
    "):\n",
    "  f, ax = plt.subplots(figsize=(7, 5))\n",
    "  ax.set_title(title)\n",
    "  ax.set_xlabel(x_label)\n",
    "  ax.set_ylabel(y_label)\n",
    "\n",
    "  sns.lineplot(\n",
    "    x='param_max_depth',\n",
    "    y='mean_test_score',\n",
    "    data=df,\n",
    "    label='Test'\n",
    "  )\n",
    "  sns.lineplot(\n",
    "    x='param_max_depth',\n",
    "    y='mean_train_score',\n",
    "    data=df,\n",
    "    label='Train'\n",
    "  )\n",
    "  plt.legend()\n",
    "  return f"
   ]
  },
  {
   "cell_type": "code",
   "execution_count": 15,
   "id": "9f992ee6-09e8-470b-8fbf-8ce7dbab1d0e",
   "metadata": {},
   "outputs": [
    {
     "data": {
      "text/plain": [
       "0.9620486902683749"
      ]
     },
     "execution_count": 15,
     "metadata": {},
     "output_type": "execute_result"
    }
   ],
   "source": [
    "tree = DecisionTreeClassifier(random_state=0)\n",
    "tree_results = eval_model(cities_scaled, clusters.labels_, tree)\n",
    "tree_results"
   ]
  },
  {
   "cell_type": "code",
   "execution_count": 16,
   "id": "96c36571-39b7-456c-8267-483fb70a03b0",
   "metadata": {},
   "outputs": [],
   "source": [
    "params = {'max_depth': [i for i in range(1, 20)]}\n",
    "grid_search_results = grid_search_model(cities_scaled, clusters.labels_, DecisionTreeClassifier(), params)"
   ]
  },
  {
   "cell_type": "code",
   "execution_count": 17,
   "id": "32f06e20-4a5b-4311-afee-ae8e1ccd59af",
   "metadata": {},
   "outputs": [
    {
     "data": {
      "image/png": "[encoded data removed]",
      "text/plain": [
       "<Figure size 700x500 with 1 Axes>"
      ]
     },
     "metadata": {},
     "output_type": "display_data"
    }
   ],
   "source": [
    "plot_overfit_analysis(\n",
    "  grid_search_results,\n",
    "  'Profundidade Máxima',\n",
    "  'Acurácia',\n",
    "  'Decision Tree Overfit'\n",
    ").show()"
   ]
  },
  {
   "cell_type": "markdown",
   "id": "87725510-0717-4c3f-96be-60398284a97f",
   "metadata": {},
   "source": [
    "## Referências\n",
    "\n",
    "[1. Pesquisa AFEBRAS - Idade](https://afrebras.org.br/noticias/pesquisa-revela-quem-consome-mais-refrigerante-no-pais/)\n",
    "\n",
    "[2. Artigo UFPA - Idade](https://coesa.ufpa.br/arquivos/2018/expandido/pesquisa/epidemiologia/PES207.pdf)\n",
    "\n",
    "[3. Pesquisa IBGE - Renda](https://www.uol.com.br/vivabem/noticias/redacao/2011/07/28/brasileiros-consomem-mais-de-15-milhoes-de-litros-de-refrigerante-por-dia-aponta-ibge.htm)\n",
    "\n",
    "[4. Lançamento concorrente](https://www.heinekenbrasil.com.br/noticias/clash-d-grupo-heineken-inova-ao-lancar-primeiro-refrigerante-brewed-do-mercado-brasileiro/#)"
   ]
  }
 ],
 "metadata": {
  "kernelspec": {
   "display_name": "Python 3 (ipykernel)",
   "language": "python",
   "name": "python3"
  },
  "language_info": {
   "codemirror_mode": {
    "name": "ipython",
    "version": 3
   },
   "file_extension": ".py",
   "mimetype": "text/x-python",
   "name": "python",
   "nbconvert_exporter": "python",
   "pygments_lexer": "ipython3",
   "version": "3.9.6"
  }
 },
 "nbformat": 4,
 "nbformat_minor": 5
}
